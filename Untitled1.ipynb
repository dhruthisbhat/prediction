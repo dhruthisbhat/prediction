{
 "cells": [
  {
   "cell_type": "code",
   "execution_count": 2,
   "id": "db2f9341",
   "metadata": {},
   "outputs": [],
   "source": [
    "import pandas as pd\n",
    "import numpy as np\n",
    "from sklearn import metrics\n",
    "%matplotlib inline\n",
    "import matplotlib.pyplot as plt"
   ]
  },
  {
   "cell_type": "code",
   "execution_count": 3,
   "id": "63bc6d98",
   "metadata": {},
   "outputs": [],
   "source": [
    "df=pd.read_csv(\"company.csv\")"
   ]
  },
  {
   "cell_type": "code",
   "execution_count": 4,
   "id": "33b1cffd",
   "metadata": {},
   "outputs": [
    {
     "data": {
      "text/html": [
       "<div>\n",
       "<style scoped>\n",
       "    .dataframe tbody tr th:only-of-type {\n",
       "        vertical-align: middle;\n",
       "    }\n",
       "\n",
       "    .dataframe tbody tr th {\n",
       "        vertical-align: top;\n",
       "    }\n",
       "\n",
       "    .dataframe thead th {\n",
       "        text-align: right;\n",
       "    }\n",
       "</style>\n",
       "<table border=\"1\" class=\"dataframe\">\n",
       "  <thead>\n",
       "    <tr style=\"text-align: right;\">\n",
       "      <th></th>\n",
       "      <th>Date</th>\n",
       "      <th>Open</th>\n",
       "      <th>High</th>\n",
       "      <th>Low</th>\n",
       "      <th>Close</th>\n",
       "      <th>Adj Close</th>\n",
       "      <th>Volume</th>\n",
       "    </tr>\n",
       "  </thead>\n",
       "  <tbody>\n",
       "    <tr>\n",
       "      <th>0</th>\n",
       "      <td>2010-06-29</td>\n",
       "      <td>1.266667</td>\n",
       "      <td>1.666667</td>\n",
       "      <td>1.169333</td>\n",
       "      <td>1.592667</td>\n",
       "      <td>1.592667</td>\n",
       "      <td>281494500</td>\n",
       "    </tr>\n",
       "    <tr>\n",
       "      <th>1</th>\n",
       "      <td>2010-06-30</td>\n",
       "      <td>1.719333</td>\n",
       "      <td>2.028000</td>\n",
       "      <td>1.553333</td>\n",
       "      <td>1.588667</td>\n",
       "      <td>1.588667</td>\n",
       "      <td>257806500</td>\n",
       "    </tr>\n",
       "    <tr>\n",
       "      <th>2</th>\n",
       "      <td>2010-07-01</td>\n",
       "      <td>1.666667</td>\n",
       "      <td>1.728000</td>\n",
       "      <td>1.351333</td>\n",
       "      <td>1.464000</td>\n",
       "      <td>1.464000</td>\n",
       "      <td>123282000</td>\n",
       "    </tr>\n",
       "    <tr>\n",
       "      <th>3</th>\n",
       "      <td>2010-07-02</td>\n",
       "      <td>1.533333</td>\n",
       "      <td>1.540000</td>\n",
       "      <td>1.247333</td>\n",
       "      <td>1.280000</td>\n",
       "      <td>1.280000</td>\n",
       "      <td>77097000</td>\n",
       "    </tr>\n",
       "    <tr>\n",
       "      <th>4</th>\n",
       "      <td>2010-07-06</td>\n",
       "      <td>1.333333</td>\n",
       "      <td>1.333333</td>\n",
       "      <td>1.055333</td>\n",
       "      <td>1.074000</td>\n",
       "      <td>1.074000</td>\n",
       "      <td>103003500</td>\n",
       "    </tr>\n",
       "  </tbody>\n",
       "</table>\n",
       "</div>"
      ],
      "text/plain": [
       "         Date      Open      High       Low     Close  Adj Close     Volume\n",
       "0  2010-06-29  1.266667  1.666667  1.169333  1.592667   1.592667  281494500\n",
       "1  2010-06-30  1.719333  2.028000  1.553333  1.588667   1.588667  257806500\n",
       "2  2010-07-01  1.666667  1.728000  1.351333  1.464000   1.464000  123282000\n",
       "3  2010-07-02  1.533333  1.540000  1.247333  1.280000   1.280000   77097000\n",
       "4  2010-07-06  1.333333  1.333333  1.055333  1.074000   1.074000  103003500"
      ]
     },
     "execution_count": 4,
     "metadata": {},
     "output_type": "execute_result"
    }
   ],
   "source": [
    "df.head()"
   ]
  },
  {
   "cell_type": "code",
   "execution_count": 5,
   "id": "a657b2cc",
   "metadata": {},
   "outputs": [
    {
     "name": "stdout",
     "output_type": "stream",
     "text": [
      "<class 'pandas.core.frame.DataFrame'>\n",
      "RangeIndex: 3509 entries, 0 to 3508\n",
      "Data columns (total 7 columns):\n",
      " #   Column     Non-Null Count  Dtype  \n",
      "---  ------     --------------  -----  \n",
      " 0   Date       3509 non-null   object \n",
      " 1   Open       3509 non-null   float64\n",
      " 2   High       3509 non-null   float64\n",
      " 3   Low        3509 non-null   float64\n",
      " 4   Close      3509 non-null   float64\n",
      " 5   Adj Close  3509 non-null   float64\n",
      " 6   Volume     3509 non-null   int64  \n",
      "dtypes: float64(5), int64(1), object(1)\n",
      "memory usage: 192.0+ KB\n"
     ]
    }
   ],
   "source": [
    "df.info()"
   ]
  },
  {
   "cell_type": "code",
   "execution_count": 6,
   "id": "c3445cf1",
   "metadata": {},
   "outputs": [
    {
     "data": {
      "text/html": [
       "<div>\n",
       "<style scoped>\n",
       "    .dataframe tbody tr th:only-of-type {\n",
       "        vertical-align: middle;\n",
       "    }\n",
       "\n",
       "    .dataframe tbody tr th {\n",
       "        vertical-align: top;\n",
       "    }\n",
       "\n",
       "    .dataframe thead th {\n",
       "        text-align: right;\n",
       "    }\n",
       "</style>\n",
       "<table border=\"1\" class=\"dataframe\">\n",
       "  <thead>\n",
       "    <tr style=\"text-align: right;\">\n",
       "      <th></th>\n",
       "      <th>Open</th>\n",
       "      <th>High</th>\n",
       "      <th>Low</th>\n",
       "      <th>Close</th>\n",
       "      <th>Adj Close</th>\n",
       "      <th>Volume</th>\n",
       "    </tr>\n",
       "  </thead>\n",
       "  <tbody>\n",
       "    <tr>\n",
       "      <th>count</th>\n",
       "      <td>3509.000000</td>\n",
       "      <td>3509.000000</td>\n",
       "      <td>3509.000000</td>\n",
       "      <td>3509.000000</td>\n",
       "      <td>3509.000000</td>\n",
       "      <td>3.509000e+03</td>\n",
       "    </tr>\n",
       "    <tr>\n",
       "      <th>mean</th>\n",
       "      <td>74.057486</td>\n",
       "      <td>75.666813</td>\n",
       "      <td>72.324719</td>\n",
       "      <td>74.032508</td>\n",
       "      <td>74.032508</td>\n",
       "      <td>9.683246e+07</td>\n",
       "    </tr>\n",
       "    <tr>\n",
       "      <th>std</th>\n",
       "      <td>101.999514</td>\n",
       "      <td>104.244555</td>\n",
       "      <td>99.528061</td>\n",
       "      <td>101.915952</td>\n",
       "      <td>101.915952</td>\n",
       "      <td>7.894845e+07</td>\n",
       "    </tr>\n",
       "    <tr>\n",
       "      <th>min</th>\n",
       "      <td>1.076000</td>\n",
       "      <td>1.108667</td>\n",
       "      <td>0.998667</td>\n",
       "      <td>1.053333</td>\n",
       "      <td>1.053333</td>\n",
       "      <td>1.777500e+06</td>\n",
       "    </tr>\n",
       "    <tr>\n",
       "      <th>25%</th>\n",
       "      <td>11.346000</td>\n",
       "      <td>11.580000</td>\n",
       "      <td>11.037333</td>\n",
       "      <td>11.328667</td>\n",
       "      <td>11.328667</td>\n",
       "      <td>4.716300e+07</td>\n",
       "    </tr>\n",
       "    <tr>\n",
       "      <th>50%</th>\n",
       "      <td>17.334000</td>\n",
       "      <td>17.563999</td>\n",
       "      <td>16.974667</td>\n",
       "      <td>17.330667</td>\n",
       "      <td>17.330667</td>\n",
       "      <td>8.203590e+07</td>\n",
       "    </tr>\n",
       "    <tr>\n",
       "      <th>75%</th>\n",
       "      <td>147.783340</td>\n",
       "      <td>150.940002</td>\n",
       "      <td>143.566666</td>\n",
       "      <td>147.383331</td>\n",
       "      <td>147.383331</td>\n",
       "      <td>1.226560e+08</td>\n",
       "    </tr>\n",
       "    <tr>\n",
       "      <th>max</th>\n",
       "      <td>411.470001</td>\n",
       "      <td>414.496674</td>\n",
       "      <td>405.666656</td>\n",
       "      <td>409.970001</td>\n",
       "      <td>409.970001</td>\n",
       "      <td>9.140820e+08</td>\n",
       "    </tr>\n",
       "  </tbody>\n",
       "</table>\n",
       "</div>"
      ],
      "text/plain": [
       "              Open         High          Low        Close    Adj Close  \\\n",
       "count  3509.000000  3509.000000  3509.000000  3509.000000  3509.000000   \n",
       "mean     74.057486    75.666813    72.324719    74.032508    74.032508   \n",
       "std     101.999514   104.244555    99.528061   101.915952   101.915952   \n",
       "min       1.076000     1.108667     0.998667     1.053333     1.053333   \n",
       "25%      11.346000    11.580000    11.037333    11.328667    11.328667   \n",
       "50%      17.334000    17.563999    16.974667    17.330667    17.330667   \n",
       "75%     147.783340   150.940002   143.566666   147.383331   147.383331   \n",
       "max     411.470001   414.496674   405.666656   409.970001   409.970001   \n",
       "\n",
       "             Volume  \n",
       "count  3.509000e+03  \n",
       "mean   9.683246e+07  \n",
       "std    7.894845e+07  \n",
       "min    1.777500e+06  \n",
       "25%    4.716300e+07  \n",
       "50%    8.203590e+07  \n",
       "75%    1.226560e+08  \n",
       "max    9.140820e+08  "
      ]
     },
     "execution_count": 6,
     "metadata": {},
     "output_type": "execute_result"
    }
   ],
   "source": [
    "df.describe()"
   ]
  },
  {
   "cell_type": "code",
   "execution_count": 10,
   "id": "73c7e966",
   "metadata": {},
   "outputs": [
    {
     "data": {
      "text/html": [
       "<div>\n",
       "<style scoped>\n",
       "    .dataframe tbody tr th:only-of-type {\n",
       "        vertical-align: middle;\n",
       "    }\n",
       "\n",
       "    .dataframe tbody tr th {\n",
       "        vertical-align: top;\n",
       "    }\n",
       "\n",
       "    .dataframe thead th {\n",
       "        text-align: right;\n",
       "    }\n",
       "</style>\n",
       "<table border=\"1\" class=\"dataframe\">\n",
       "  <thead>\n",
       "    <tr style=\"text-align: right;\">\n",
       "      <th></th>\n",
       "      <th>Date</th>\n",
       "      <th>Open</th>\n",
       "      <th>High</th>\n",
       "      <th>Low</th>\n",
       "      <th>Close</th>\n",
       "      <th>Adj Close</th>\n",
       "      <th>Volume</th>\n",
       "    </tr>\n",
       "  </thead>\n",
       "  <tbody>\n",
       "    <tr>\n",
       "      <th>0</th>\n",
       "      <td>2010-06-29</td>\n",
       "      <td>1.266667</td>\n",
       "      <td>1.666667</td>\n",
       "      <td>1.169333</td>\n",
       "      <td>1.592667</td>\n",
       "      <td>NaN</td>\n",
       "      <td>281494500</td>\n",
       "    </tr>\n",
       "    <tr>\n",
       "      <th>1</th>\n",
       "      <td>2010-06-30</td>\n",
       "      <td>1.719333</td>\n",
       "      <td>2.028000</td>\n",
       "      <td>1.553333</td>\n",
       "      <td>1.588667</td>\n",
       "      <td>1.592667</td>\n",
       "      <td>257806500</td>\n",
       "    </tr>\n",
       "    <tr>\n",
       "      <th>2</th>\n",
       "      <td>2010-07-01</td>\n",
       "      <td>1.666667</td>\n",
       "      <td>1.728000</td>\n",
       "      <td>1.351333</td>\n",
       "      <td>1.464000</td>\n",
       "      <td>1.588667</td>\n",
       "      <td>123282000</td>\n",
       "    </tr>\n",
       "    <tr>\n",
       "      <th>3</th>\n",
       "      <td>2010-07-02</td>\n",
       "      <td>1.533333</td>\n",
       "      <td>1.540000</td>\n",
       "      <td>1.247333</td>\n",
       "      <td>1.280000</td>\n",
       "      <td>1.464000</td>\n",
       "      <td>77097000</td>\n",
       "    </tr>\n",
       "    <tr>\n",
       "      <th>4</th>\n",
       "      <td>2010-07-06</td>\n",
       "      <td>1.333333</td>\n",
       "      <td>1.333333</td>\n",
       "      <td>1.055333</td>\n",
       "      <td>1.074000</td>\n",
       "      <td>1.280000</td>\n",
       "      <td>103003500</td>\n",
       "    </tr>\n",
       "  </tbody>\n",
       "</table>\n",
       "</div>"
      ],
      "text/plain": [
       "         Date      Open      High       Low     Close  Adj Close     Volume\n",
       "0  2010-06-29  1.266667  1.666667  1.169333  1.592667        NaN  281494500\n",
       "1  2010-06-30  1.719333  2.028000  1.553333  1.588667   1.592667  257806500\n",
       "2  2010-07-01  1.666667  1.728000  1.351333  1.464000   1.588667  123282000\n",
       "3  2010-07-02  1.533333  1.540000  1.247333  1.280000   1.464000   77097000\n",
       "4  2010-07-06  1.333333  1.333333  1.055333  1.074000   1.280000  103003500"
      ]
     },
     "execution_count": 10,
     "metadata": {},
     "output_type": "execute_result"
    }
   ],
   "source": [
    "series_shifted=df['Close'].shift()\n",
    "df['Adj Close']=series_shifted\n",
    "df.head()"
   ]
  },
  {
   "cell_type": "code",
   "execution_count": 12,
   "id": "f23c9ea1",
   "metadata": {},
   "outputs": [],
   "source": [
    "df['Date']=pd.to_datetime(df.Date)"
   ]
  },
  {
   "cell_type": "code",
   "execution_count": 13,
   "id": "851e8435",
   "metadata": {},
   "outputs": [
    {
     "data": {
      "text/html": [
       "<div>\n",
       "<style scoped>\n",
       "    .dataframe tbody tr th:only-of-type {\n",
       "        vertical-align: middle;\n",
       "    }\n",
       "\n",
       "    .dataframe tbody tr th {\n",
       "        vertical-align: top;\n",
       "    }\n",
       "\n",
       "    .dataframe thead th {\n",
       "        text-align: right;\n",
       "    }\n",
       "</style>\n",
       "<table border=\"1\" class=\"dataframe\">\n",
       "  <thead>\n",
       "    <tr style=\"text-align: right;\">\n",
       "      <th></th>\n",
       "      <th>Date</th>\n",
       "      <th>Open</th>\n",
       "      <th>High</th>\n",
       "      <th>Low</th>\n",
       "      <th>Close</th>\n",
       "      <th>Adj Close</th>\n",
       "      <th>Volume</th>\n",
       "    </tr>\n",
       "  </thead>\n",
       "  <tbody>\n",
       "    <tr>\n",
       "      <th>0</th>\n",
       "      <td>2010-06-29</td>\n",
       "      <td>1.266667</td>\n",
       "      <td>1.666667</td>\n",
       "      <td>1.169333</td>\n",
       "      <td>1.592667</td>\n",
       "      <td>NaN</td>\n",
       "      <td>281494500</td>\n",
       "    </tr>\n",
       "    <tr>\n",
       "      <th>1</th>\n",
       "      <td>2010-06-30</td>\n",
       "      <td>1.719333</td>\n",
       "      <td>2.028000</td>\n",
       "      <td>1.553333</td>\n",
       "      <td>1.588667</td>\n",
       "      <td>1.592667</td>\n",
       "      <td>257806500</td>\n",
       "    </tr>\n",
       "    <tr>\n",
       "      <th>2</th>\n",
       "      <td>2010-07-01</td>\n",
       "      <td>1.666667</td>\n",
       "      <td>1.728000</td>\n",
       "      <td>1.351333</td>\n",
       "      <td>1.464000</td>\n",
       "      <td>1.588667</td>\n",
       "      <td>123282000</td>\n",
       "    </tr>\n",
       "    <tr>\n",
       "      <th>3</th>\n",
       "      <td>2010-07-02</td>\n",
       "      <td>1.533333</td>\n",
       "      <td>1.540000</td>\n",
       "      <td>1.247333</td>\n",
       "      <td>1.280000</td>\n",
       "      <td>1.464000</td>\n",
       "      <td>77097000</td>\n",
       "    </tr>\n",
       "    <tr>\n",
       "      <th>4</th>\n",
       "      <td>2010-07-06</td>\n",
       "      <td>1.333333</td>\n",
       "      <td>1.333333</td>\n",
       "      <td>1.055333</td>\n",
       "      <td>1.074000</td>\n",
       "      <td>1.280000</td>\n",
       "      <td>103003500</td>\n",
       "    </tr>\n",
       "  </tbody>\n",
       "</table>\n",
       "</div>"
      ],
      "text/plain": [
       "        Date      Open      High       Low     Close  Adj Close     Volume\n",
       "0 2010-06-29  1.266667  1.666667  1.169333  1.592667        NaN  281494500\n",
       "1 2010-06-30  1.719333  2.028000  1.553333  1.588667   1.592667  257806500\n",
       "2 2010-07-01  1.666667  1.728000  1.351333  1.464000   1.588667  123282000\n",
       "3 2010-07-02  1.533333  1.540000  1.247333  1.280000   1.464000   77097000\n",
       "4 2010-07-06  1.333333  1.333333  1.055333  1.074000   1.280000  103003500"
      ]
     },
     "execution_count": 13,
     "metadata": {},
     "output_type": "execute_result"
    }
   ],
   "source": [
    "df.head()"
   ]
  },
  {
   "cell_type": "code",
   "execution_count": 14,
   "id": "e35cbb7d",
   "metadata": {},
   "outputs": [
    {
     "data": {
      "text/plain": [
       "(3509, 7)"
      ]
     },
     "execution_count": 14,
     "metadata": {},
     "output_type": "execute_result"
    }
   ],
   "source": [
    "df.shape"
   ]
  },
  {
   "cell_type": "code",
   "execution_count": 15,
   "id": "406b7141",
   "metadata": {},
   "outputs": [
    {
     "data": {
      "text/plain": [
       "Date         0\n",
       "Open         0\n",
       "High         0\n",
       "Low          0\n",
       "Close        0\n",
       "Adj Close    1\n",
       "Volume       0\n",
       "dtype: int64"
      ]
     },
     "execution_count": 15,
     "metadata": {},
     "output_type": "execute_result"
    }
   ],
   "source": [
    "df.isnull().sum()"
   ]
  },
  {
   "cell_type": "code",
   "execution_count": 16,
   "id": "c8d76a8f",
   "metadata": {},
   "outputs": [
    {
     "data": {
      "text/html": [
       "<div>\n",
       "<style scoped>\n",
       "    .dataframe tbody tr th:only-of-type {\n",
       "        vertical-align: middle;\n",
       "    }\n",
       "\n",
       "    .dataframe tbody tr th {\n",
       "        vertical-align: top;\n",
       "    }\n",
       "\n",
       "    .dataframe thead th {\n",
       "        text-align: right;\n",
       "    }\n",
       "</style>\n",
       "<table border=\"1\" class=\"dataframe\">\n",
       "  <thead>\n",
       "    <tr style=\"text-align: right;\">\n",
       "      <th></th>\n",
       "      <th>Date</th>\n",
       "      <th>Open</th>\n",
       "      <th>High</th>\n",
       "      <th>Low</th>\n",
       "      <th>Close</th>\n",
       "      <th>Adj Close</th>\n",
       "      <th>Volume</th>\n",
       "    </tr>\n",
       "  </thead>\n",
       "  <tbody>\n",
       "    <tr>\n",
       "      <th>1</th>\n",
       "      <td>2010-06-30</td>\n",
       "      <td>1.719333</td>\n",
       "      <td>2.028000</td>\n",
       "      <td>1.553333</td>\n",
       "      <td>1.588667</td>\n",
       "      <td>1.592667</td>\n",
       "      <td>257806500</td>\n",
       "    </tr>\n",
       "    <tr>\n",
       "      <th>2</th>\n",
       "      <td>2010-07-01</td>\n",
       "      <td>1.666667</td>\n",
       "      <td>1.728000</td>\n",
       "      <td>1.351333</td>\n",
       "      <td>1.464000</td>\n",
       "      <td>1.588667</td>\n",
       "      <td>123282000</td>\n",
       "    </tr>\n",
       "    <tr>\n",
       "      <th>3</th>\n",
       "      <td>2010-07-02</td>\n",
       "      <td>1.533333</td>\n",
       "      <td>1.540000</td>\n",
       "      <td>1.247333</td>\n",
       "      <td>1.280000</td>\n",
       "      <td>1.464000</td>\n",
       "      <td>77097000</td>\n",
       "    </tr>\n",
       "    <tr>\n",
       "      <th>4</th>\n",
       "      <td>2010-07-06</td>\n",
       "      <td>1.333333</td>\n",
       "      <td>1.333333</td>\n",
       "      <td>1.055333</td>\n",
       "      <td>1.074000</td>\n",
       "      <td>1.280000</td>\n",
       "      <td>103003500</td>\n",
       "    </tr>\n",
       "    <tr>\n",
       "      <th>5</th>\n",
       "      <td>2010-07-07</td>\n",
       "      <td>1.093333</td>\n",
       "      <td>1.108667</td>\n",
       "      <td>0.998667</td>\n",
       "      <td>1.053333</td>\n",
       "      <td>1.074000</td>\n",
       "      <td>103825500</td>\n",
       "    </tr>\n",
       "    <tr>\n",
       "      <th>...</th>\n",
       "      <td>...</td>\n",
       "      <td>...</td>\n",
       "      <td>...</td>\n",
       "      <td>...</td>\n",
       "      <td>...</td>\n",
       "      <td>...</td>\n",
       "      <td>...</td>\n",
       "    </tr>\n",
       "    <tr>\n",
       "      <th>3504</th>\n",
       "      <td>2024-05-31</td>\n",
       "      <td>178.500000</td>\n",
       "      <td>180.320007</td>\n",
       "      <td>173.820007</td>\n",
       "      <td>178.080002</td>\n",
       "      <td>178.789993</td>\n",
       "      <td>67314600</td>\n",
       "    </tr>\n",
       "    <tr>\n",
       "      <th>3505</th>\n",
       "      <td>2024-06-03</td>\n",
       "      <td>178.130005</td>\n",
       "      <td>182.639999</td>\n",
       "      <td>174.490005</td>\n",
       "      <td>176.289993</td>\n",
       "      <td>178.080002</td>\n",
       "      <td>68568900</td>\n",
       "    </tr>\n",
       "    <tr>\n",
       "      <th>3506</th>\n",
       "      <td>2024-06-04</td>\n",
       "      <td>174.779999</td>\n",
       "      <td>177.759995</td>\n",
       "      <td>174.000000</td>\n",
       "      <td>174.770004</td>\n",
       "      <td>176.289993</td>\n",
       "      <td>60056300</td>\n",
       "    </tr>\n",
       "    <tr>\n",
       "      <th>3507</th>\n",
       "      <td>2024-06-05</td>\n",
       "      <td>175.350006</td>\n",
       "      <td>176.149994</td>\n",
       "      <td>172.130005</td>\n",
       "      <td>175.000000</td>\n",
       "      <td>174.770004</td>\n",
       "      <td>57614800</td>\n",
       "    </tr>\n",
       "    <tr>\n",
       "      <th>3508</th>\n",
       "      <td>2024-06-06</td>\n",
       "      <td>174.419998</td>\n",
       "      <td>176.919998</td>\n",
       "      <td>172.729996</td>\n",
       "      <td>175.440002</td>\n",
       "      <td>175.000000</td>\n",
       "      <td>29887849</td>\n",
       "    </tr>\n",
       "  </tbody>\n",
       "</table>\n",
       "<p>3508 rows × 7 columns</p>\n",
       "</div>"
      ],
      "text/plain": [
       "           Date        Open        High         Low       Close   Adj Close  \\\n",
       "1    2010-06-30    1.719333    2.028000    1.553333    1.588667    1.592667   \n",
       "2    2010-07-01    1.666667    1.728000    1.351333    1.464000    1.588667   \n",
       "3    2010-07-02    1.533333    1.540000    1.247333    1.280000    1.464000   \n",
       "4    2010-07-06    1.333333    1.333333    1.055333    1.074000    1.280000   \n",
       "5    2010-07-07    1.093333    1.108667    0.998667    1.053333    1.074000   \n",
       "...         ...         ...         ...         ...         ...         ...   \n",
       "3504 2024-05-31  178.500000  180.320007  173.820007  178.080002  178.789993   \n",
       "3505 2024-06-03  178.130005  182.639999  174.490005  176.289993  178.080002   \n",
       "3506 2024-06-04  174.779999  177.759995  174.000000  174.770004  176.289993   \n",
       "3507 2024-06-05  175.350006  176.149994  172.130005  175.000000  174.770004   \n",
       "3508 2024-06-06  174.419998  176.919998  172.729996  175.440002  175.000000   \n",
       "\n",
       "         Volume  \n",
       "1     257806500  \n",
       "2     123282000  \n",
       "3      77097000  \n",
       "4     103003500  \n",
       "5     103825500  \n",
       "...         ...  \n",
       "3504   67314600  \n",
       "3505   68568900  \n",
       "3506   60056300  \n",
       "3507   57614800  \n",
       "3508   29887849  \n",
       "\n",
       "[3508 rows x 7 columns]"
      ]
     },
     "execution_count": 16,
     "metadata": {},
     "output_type": "execute_result"
    }
   ],
   "source": [
    "df.dropna(inplace=True)\n",
    "df"
   ]
  },
  {
   "cell_type": "code",
   "execution_count": 18,
   "id": "7036c559",
   "metadata": {},
   "outputs": [
    {
     "name": "stdout",
     "output_type": "stream",
     "text": [
      "<class 'pandas.core.frame.DataFrame'>\n",
      "Index: 3508 entries, 1 to 3508\n",
      "Data columns (total 7 columns):\n",
      " #   Column     Non-Null Count  Dtype         \n",
      "---  ------     --------------  -----         \n",
      " 0   Date       3508 non-null   datetime64[ns]\n",
      " 1   Open       3508 non-null   float64       \n",
      " 2   High       3508 non-null   float64       \n",
      " 3   Low        3508 non-null   float64       \n",
      " 4   Close      3508 non-null   float64       \n",
      " 5   Adj Close  3508 non-null   float64       \n",
      " 6   Volume     3508 non-null   int64         \n",
      "dtypes: datetime64[ns](1), float64(5), int64(1)\n",
      "memory usage: 219.2 KB\n"
     ]
    }
   ],
   "source": [
    "df.info()"
   ]
  },
  {
   "cell_type": "code",
   "execution_count": 19,
   "id": "0e204fe4",
   "metadata": {},
   "outputs": [
    {
     "data": {
      "text/html": [
       "<div>\n",
       "<style scoped>\n",
       "    .dataframe tbody tr th:only-of-type {\n",
       "        vertical-align: middle;\n",
       "    }\n",
       "\n",
       "    .dataframe tbody tr th {\n",
       "        vertical-align: top;\n",
       "    }\n",
       "\n",
       "    .dataframe thead th {\n",
       "        text-align: right;\n",
       "    }\n",
       "</style>\n",
       "<table border=\"1\" class=\"dataframe\">\n",
       "  <thead>\n",
       "    <tr style=\"text-align: right;\">\n",
       "      <th></th>\n",
       "      <th>Date</th>\n",
       "      <th>Open</th>\n",
       "      <th>High</th>\n",
       "      <th>Low</th>\n",
       "      <th>Close</th>\n",
       "      <th>Adj Close</th>\n",
       "      <th>Volume</th>\n",
       "    </tr>\n",
       "  </thead>\n",
       "  <tbody>\n",
       "    <tr>\n",
       "      <th>count</th>\n",
       "      <td>3508</td>\n",
       "      <td>3508.000000</td>\n",
       "      <td>3508.000000</td>\n",
       "      <td>3508.000000</td>\n",
       "      <td>3508.000000</td>\n",
       "      <td>3508.000000</td>\n",
       "      <td>3.508000e+03</td>\n",
       "    </tr>\n",
       "    <tr>\n",
       "      <th>mean</th>\n",
       "      <td>2017-06-17 07:13:04.036488192</td>\n",
       "      <td>74.078236</td>\n",
       "      <td>75.687907</td>\n",
       "      <td>72.345003</td>\n",
       "      <td>74.053158</td>\n",
       "      <td>74.003601</td>\n",
       "      <td>9.677982e+07</td>\n",
       "    </tr>\n",
       "    <tr>\n",
       "      <th>min</th>\n",
       "      <td>2010-06-30 00:00:00</td>\n",
       "      <td>1.076000</td>\n",
       "      <td>1.108667</td>\n",
       "      <td>0.998667</td>\n",
       "      <td>1.053333</td>\n",
       "      <td>1.053333</td>\n",
       "      <td>1.777500e+06</td>\n",
       "    </tr>\n",
       "    <tr>\n",
       "      <th>25%</th>\n",
       "      <td>2013-12-22 06:00:00</td>\n",
       "      <td>11.361500</td>\n",
       "      <td>11.620000</td>\n",
       "      <td>11.051833</td>\n",
       "      <td>11.332667</td>\n",
       "      <td>11.324167</td>\n",
       "      <td>4.714912e+07</td>\n",
       "    </tr>\n",
       "    <tr>\n",
       "      <th>50%</th>\n",
       "      <td>2017-06-17 12:00:00</td>\n",
       "      <td>17.337000</td>\n",
       "      <td>17.571333</td>\n",
       "      <td>16.987333</td>\n",
       "      <td>17.331666</td>\n",
       "      <td>17.329999</td>\n",
       "      <td>8.201895e+07</td>\n",
       "    </tr>\n",
       "    <tr>\n",
       "      <th>75%</th>\n",
       "      <td>2020-12-09 06:00:00</td>\n",
       "      <td>147.888340</td>\n",
       "      <td>151.178333</td>\n",
       "      <td>143.759167</td>\n",
       "      <td>147.395832</td>\n",
       "      <td>147.285827</td>\n",
       "      <td>1.226148e+08</td>\n",
       "    </tr>\n",
       "    <tr>\n",
       "      <th>max</th>\n",
       "      <td>2024-06-06 00:00:00</td>\n",
       "      <td>411.470001</td>\n",
       "      <td>414.496674</td>\n",
       "      <td>405.666656</td>\n",
       "      <td>409.970001</td>\n",
       "      <td>409.970001</td>\n",
       "      <td>9.140820e+08</td>\n",
       "    </tr>\n",
       "    <tr>\n",
       "      <th>std</th>\n",
       "      <td>NaN</td>\n",
       "      <td>102.006648</td>\n",
       "      <td>104.251926</td>\n",
       "      <td>99.534996</td>\n",
       "      <td>101.923139</td>\n",
       "      <td>101.916092</td>\n",
       "      <td>7.889809e+07</td>\n",
       "    </tr>\n",
       "  </tbody>\n",
       "</table>\n",
       "</div>"
      ],
      "text/plain": [
       "                                Date         Open         High          Low  \\\n",
       "count                           3508  3508.000000  3508.000000  3508.000000   \n",
       "mean   2017-06-17 07:13:04.036488192    74.078236    75.687907    72.345003   \n",
       "min              2010-06-30 00:00:00     1.076000     1.108667     0.998667   \n",
       "25%              2013-12-22 06:00:00    11.361500    11.620000    11.051833   \n",
       "50%              2017-06-17 12:00:00    17.337000    17.571333    16.987333   \n",
       "75%              2020-12-09 06:00:00   147.888340   151.178333   143.759167   \n",
       "max              2024-06-06 00:00:00   411.470001   414.496674   405.666656   \n",
       "std                              NaN   102.006648   104.251926    99.534996   \n",
       "\n",
       "             Close    Adj Close        Volume  \n",
       "count  3508.000000  3508.000000  3.508000e+03  \n",
       "mean     74.053158    74.003601  9.677982e+07  \n",
       "min       1.053333     1.053333  1.777500e+06  \n",
       "25%      11.332667    11.324167  4.714912e+07  \n",
       "50%      17.331666    17.329999  8.201895e+07  \n",
       "75%     147.395832   147.285827  1.226148e+08  \n",
       "max     409.970001   409.970001  9.140820e+08  \n",
       "std     101.923139   101.916092  7.889809e+07  "
      ]
     },
     "execution_count": 19,
     "metadata": {},
     "output_type": "execute_result"
    }
   ],
   "source": [
    "df.describe()"
   ]
  },
  {
   "cell_type": "code",
   "execution_count": 22,
   "id": "e2d349dc",
   "metadata": {},
   "outputs": [
    {
     "data": {
      "text/plain": [
       "<Axes: >"
      ]
     },
     "execution_count": 22,
     "metadata": {},
     "output_type": "execute_result"
    },
    {
     "data": {
      "image/png": "[encoded data removed]",
      "text/plain": [
       "<Figure size 1000x800 with 1 Axes>"
      ]
     },
     "metadata": {},
     "output_type": "display_data"
    }
   ],
   "source": [
    "df['Close'].plot(figsize=(10,8))"
   ]
  },
  {
   "cell_type": "code",
   "execution_count": 49,
   "id": "4d75c210",
   "metadata": {},
   "outputs": [],
   "source": [
    "x=df[['Open','Adj Close','High','Low']]\n",
    "y=df['Close']"
   ]
  },
  {
   "cell_type": "code",
   "execution_count": 50,
   "id": "83895d32",
   "metadata": {},
   "outputs": [],
   "source": [
    "from sklearn.model_selection import train_test_split\n",
    "x_train,x_test,y_train,y_test=train_test_split(x,y,random_state=0)"
   ]
  },
  {
   "cell_type": "code",
   "execution_count": 51,
   "id": "5f22ae61",
   "metadata": {},
   "outputs": [
    {
     "name": "stdout",
     "output_type": "stream",
     "text": [
      "(2631, 4) (877, 4)\n"
     ]
    }
   ],
   "source": [
    "print(x_train.shape, x_test.shape)"
   ]
  },
  {
   "cell_type": "code",
   "execution_count": 52,
   "id": "81413bb4",
   "metadata": {},
   "outputs": [
    {
     "data": {
      "text/html": [
       "<style>#sk-container-id-2 {color: black;}#sk-container-id-2 pre{padding: 0;}#sk-container-id-2 div.sk-toggleable {background-color: white;}#sk-container-id-2 label.sk-toggleable__label {cursor: pointer;display: block;width: 100%;margin-bottom: 0;padding: 0.3em;box-sizing: border-box;text-align: center;}#sk-container-id-2 label.sk-toggleable__label-arrow:before {content: \"▸\";float: left;margin-right: 0.25em;color: #696969;}#sk-container-id-2 label.sk-toggleable__label-arrow:hover:before {color: black;}#sk-container-id-2 div.sk-estimator:hover label.sk-toggleable__label-arrow:before {color: black;}#sk-container-id-2 div.sk-toggleable__content {max-height: 0;max-width: 0;overflow: hidden;text-align: left;background-color: #f0f8ff;}#sk-container-id-2 div.sk-toggleable__content pre {margin: 0.2em;color: black;border-radius: 0.25em;background-color: #f0f8ff;}#sk-container-id-2 input.sk-toggleable__control:checked~div.sk-toggleable__content {max-height: 200px;max-width: 100%;overflow: auto;}#sk-container-id-2 input.sk-toggleable__control:checked~label.sk-toggleable__label-arrow:before {content: \"▾\";}#sk-container-id-2 div.sk-estimator input.sk-toggleable__control:checked~label.sk-toggleable__label {background-color: #d4ebff;}#sk-container-id-2 div.sk-label input.sk-toggleable__control:checked~label.sk-toggleable__label {background-color: #d4ebff;}#sk-container-id-2 input.sk-hidden--visually {border: 0;clip: rect(1px 1px 1px 1px);clip: rect(1px, 1px, 1px, 1px);height: 1px;margin: -1px;overflow: hidden;padding: 0;position: absolute;width: 1px;}#sk-container-id-2 div.sk-estimator {font-family: monospace;background-color: #f0f8ff;border: 1px dotted black;border-radius: 0.25em;box-sizing: border-box;margin-bottom: 0.5em;}#sk-container-id-2 div.sk-estimator:hover {background-color: #d4ebff;}#sk-container-id-2 div.sk-parallel-item::after {content: \"\";width: 100%;border-bottom: 1px solid gray;flex-grow: 1;}#sk-container-id-2 div.sk-label:hover label.sk-toggleable__label {background-color: #d4ebff;}#sk-container-id-2 div.sk-serial::before {content: \"\";position: absolute;border-left: 1px solid gray;box-sizing: border-box;top: 0;bottom: 0;left: 50%;z-index: 0;}#sk-container-id-2 div.sk-serial {display: flex;flex-direction: column;align-items: center;background-color: white;padding-right: 0.2em;padding-left: 0.2em;position: relative;}#sk-container-id-2 div.sk-item {position: relative;z-index: 1;}#sk-container-id-2 div.sk-parallel {display: flex;align-items: stretch;justify-content: center;background-color: white;position: relative;}#sk-container-id-2 div.sk-item::before, #sk-container-id-2 div.sk-parallel-item::before {content: \"\";position: absolute;border-left: 1px solid gray;box-sizing: border-box;top: 0;bottom: 0;left: 50%;z-index: -1;}#sk-container-id-2 div.sk-parallel-item {display: flex;flex-direction: column;z-index: 1;position: relative;background-color: white;}#sk-container-id-2 div.sk-parallel-item:first-child::after {align-self: flex-end;width: 50%;}#sk-container-id-2 div.sk-parallel-item:last-child::after {align-self: flex-start;width: 50%;}#sk-container-id-2 div.sk-parallel-item:only-child::after {width: 0;}#sk-container-id-2 div.sk-dashed-wrapped {border: 1px dashed gray;margin: 0 0.4em 0.5em 0.4em;box-sizing: border-box;padding-bottom: 0.4em;background-color: white;}#sk-container-id-2 div.sk-label label {font-family: monospace;font-weight: bold;display: inline-block;line-height: 1.2em;}#sk-container-id-2 div.sk-label-container {text-align: center;}#sk-container-id-2 div.sk-container {/* jupyter's `normalize.less` sets `[hidden] { display: none; }` but bootstrap.min.css set `[hidden] { display: none !important; }` so we also need the `!important` here to be able to override the default hidden behavior on the sphinx rendered scikit-learn.org. See: https://github.com/scikit-learn/scikit-learn/issues/21755 */display: inline-block !important;position: relative;}#sk-container-id-2 div.sk-text-repr-fallback {display: none;}</style><div id=\"sk-container-id-2\" class=\"sk-top-container\"><div class=\"sk-text-repr-fallback\"><pre>LinearRegression()</pre><b>In a Jupyter environment, please rerun this cell to show the HTML representation or trust the notebook. <br />On GitHub, the HTML representation is unable to render, please try loading this page with nbviewer.org.</b></div><div class=\"sk-container\" hidden><div class=\"sk-item\"><div class=\"sk-estimator sk-toggleable\"><input class=\"sk-toggleable__control sk-hidden--visually\" id=\"sk-estimator-id-2\" type=\"checkbox\" checked><label for=\"sk-estimator-id-2\" class=\"sk-toggleable__label sk-toggleable__label-arrow\">LinearRegression</label><div class=\"sk-toggleable__content\"><pre>LinearRegression()</pre></div></div></div></div></div>"
      ],
      "text/plain": [
       "LinearRegression()"
      ]
     },
     "execution_count": 52,
     "metadata": {},
     "output_type": "execute_result"
    }
   ],
   "source": [
    "from sklearn.linear_model import LinearRegression\n",
    "from sklearn.metrics import confusion_matrix,accuracy_score\n",
    "regressor=LinearRegression()\n",
    "regressor.fit(x_train,y_train)"
   ]
  },
  {
   "cell_type": "code",
   "execution_count": 53,
   "id": "7bc370cc",
   "metadata": {},
   "outputs": [
    {
     "name": "stdout",
     "output_type": "stream",
     "text": [
      "[-0.5782381  -0.0813804   0.83581788  0.82404112]\n",
      "0.02375848237112166\n"
     ]
    }
   ],
   "source": [
    "print(regressor.coef_)\n",
    "print(regressor.intercept_)"
   ]
  },
  {
   "cell_type": "code",
   "execution_count": 54,
   "id": "2d57baf2",
   "metadata": {},
   "outputs": [
    {
     "name": "stdout",
     "output_type": "stream",
     "text": [
      "            Open   Adj Close        High         Low\n",
      "2866  339.209991  344.473328  343.993347  326.200012\n",
      "119     2.000000    1.973333    2.060667    1.976667\n",
      "1238   16.760668   16.719999   16.773333   16.497999\n",
      "2386   26.488001   26.209999   27.123333   26.433332\n",
      "2403   35.317333   35.861332   35.855999   34.452667\n",
      "...          ...         ...         ...         ...\n",
      "2212   18.014668   17.894667   18.129999   17.788668\n",
      "3029  236.846664  234.343338  239.773331  228.369995\n",
      "1990   18.559999   18.604668   18.740667   18.326000\n",
      "675     2.467333    2.443333    2.525333    2.464667\n",
      "455     2.139333    2.149333    2.183333    2.102000\n",
      "\n",
      "[877 rows x 4 columns]\n"
     ]
    }
   ],
   "source": [
    "predicted=regressor.predict(x_test)\n",
    "print(x_test)"
   ]
  },
  {
   "cell_type": "code",
   "execution_count": 55,
   "id": "ea3184b1",
   "metadata": {},
   "outputs": [
    {
     "data": {
      "text/plain": [
       "(877,)"
      ]
     },
     "execution_count": 55,
     "metadata": {},
     "output_type": "execute_result"
    }
   ],
   "source": [
    "predicted.shape"
   ]
  },
  {
   "cell_type": "code",
   "execution_count": 56,
   "id": "cb6d8f76",
   "metadata": {},
   "outputs": [
    {
     "name": "stdout",
     "output_type": "stream",
     "text": [
      "          Actual   Predicted\n",
      "2866  337.796661  332.164252\n",
      "119     2.054000    2.057889\n",
      "1238   16.629999   16.585903\n",
      "2386   26.936001   27.026726\n",
      "2403   34.566666   35.043021\n",
      "...          ...         ...\n",
      "2212   17.846666   17.962687\n",
      "3029  233.070007  232.592141\n",
      "1990   18.523333   18.542767\n",
      "675     2.512667    2.539919\n",
      "455     2.177333    2.168804\n",
      "\n",
      "[877 rows x 2 columns]\n"
     ]
    }
   ],
   "source": [
    "_df=pd.DataFrame({\"Actual\": y_test,\"Predicted\": predicted})\n",
    "print(_df)"
   ]
  },
  {
   "cell_type": "code",
   "execution_count": 57,
   "id": "57303cde",
   "metadata": {},
   "outputs": [
    {
     "data": {
      "text/plain": [
       "0.9996825513745821"
      ]
     },
     "execution_count": 57,
     "metadata": {},
     "output_type": "execute_result"
    }
   ],
   "source": [
    "regressor.score(x_test,y_test)"
   ]
  },
  {
   "cell_type": "code",
   "execution_count": 58,
   "id": "168c4452",
   "metadata": {},
   "outputs": [
    {
     "name": "stdout",
     "output_type": "stream",
     "text": [
      "Mean Absolute Error 0.801074226818904\n",
      "Mean Square Error 3.440734865166277\n",
      "Root Absolute Error 1.8549217948922474\n"
     ]
    }
   ],
   "source": [
    "import math\n",
    "print(\"Mean Absolute Error\",metrics.mean_absolute_error(y_test,predicted))\n",
    "print(\"Mean Square Error\",metrics.mean_squared_error(y_test,predicted))\n",
    "print(\"Root Absolute Error\",math.sqrt(metrics.mean_squared_error(y_test,predicted)))"
   ]
  },
  {
   "cell_type": "code",
   "execution_count": 59,
   "id": "1fd3bfad",
   "metadata": {},
   "outputs": [
    {
     "name": "stdout",
     "output_type": "stream",
     "text": [
      "[  1.87501168   1.48858901   1.33299923 ... 176.57088998 173.47836714\n",
      " 175.1354164 ]\n"
     ]
    }
   ],
   "source": [
    "predicted=regressor.predict(x)\n",
    "print(predicted)"
   ]
  },
  {
   "cell_type": "code",
   "execution_count": 60,
   "id": "7f9390e3",
   "metadata": {},
   "outputs": [
    {
     "data": {
      "image/png": "[encoded data removed]",
      "text/plain": [
       "<Figure size 640x480 with 1 Axes>"
      ]
     },
     "metadata": {},
     "output_type": "display_data"
    }
   ],
   "source": [
    "plt.plot(y,label=\"Actual\")\n",
    "plt.plot(predicted,label=\"Actual\")\n",
    "plt.xlabel(\"Index\")\n",
    "plt.ylabel(\"Values\")\n",
    "plt.title(\"Actual vs Predict\")\n",
    "plt.legend()\n",
    "plt.show()"
   ]
  }
 ],
 "metadata": {
  "kernelspec": {
   "display_name": "Python 3 (ipykernel)",
   "language": "python",
   "name": "python3"
  },
  "language_info": {
   "codemirror_mode": {
    "name": "ipython",
    "version": 3
   },
   "file_extension": ".py",
   "mimetype": "text/x-python",
   "name": "python",
   "nbconvert_exporter": "python",
   "pygments_lexer": "ipython3",
   "version": "3.11.5"
  }
 },
 "nbformat": 4,
 "nbformat_minor": 5
}
